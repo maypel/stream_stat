{
 "cells": [
  {
   "cell_type": "code",
   "execution_count": null,
   "id": "5b7bb81e-368d-4cf2-8d06-3a1648099ac0",
   "metadata": {},
   "outputs": [],
   "source": [
    "import pandas as pd\n",
    "import numpy as np\n",
    "import os"
   ]
  },
  {
   "cell_type": "code",
   "execution_count": null,
   "id": "39b2b2de-43b5-450e-a18b-3457ffad0e99",
   "metadata": {},
   "outputs": [],
   "source": [
    "# Liste pour stocker les DataFrames individuels\n",
    "dfs = []\n",
    "\n",
    "# Parcourir chaque fichier CSV et le charger dans un DataFrame\n",
    "for file in file_list:\n",
    "    file_path = os.path.join(folder_path, file)\n",
    "    df = pd.read_csv(file_path, sep=\";\")\n",
    "    dfs.append(df)\n",
    "\n",
    "# Concatenation des DataFrames en un seul DataFrame\n",
    "combined_df = pd.concat(dfs, ignore_index=True)\n",
    "\n",
    "# Afficher le DataFrame combiné\n",
    "print(combined_df)\n"
   ]
  }
 ],
 "metadata": {
  "kernelspec": {
   "display_name": "Python 3 (ipykernel)",
   "language": "python",
   "name": "python3"
  },
  "language_info": {
   "codemirror_mode": {
    "name": "ipython",
    "version": 3
   },
   "file_extension": ".py",
   "mimetype": "text/x-python",
   "name": "python",
   "nbconvert_exporter": "python",
   "pygments_lexer": "ipython3",
   "version": "3.12.4"
  }
 },
 "nbformat": 4,
 "nbformat_minor": 5
}
